{
 "cells": [
  {
   "cell_type": "markdown",
   "metadata": {},
   "source": [
    "For $\\mathbf r(t) = (\\cos^3 t, \\sin^3 t, \\cos 2t)$, we have\n",
    "$\\mathbf r'(t) = (-3\\cos^2 t \\sin t, 3\\sin^2 \\cos t, -2\\sin 2t)$. Therefore,\n",
    "\n",
    "$$\n",
    "\\begin{split}\n",
    "|\\mathbf r'(t)|^2 &= 9\\cos^4 t \\sin^2 t + 9\\sin^4 t \\cos^2 t + 4 \\sin^2 2t \\\\\n",
    "&=9\\sin^2 t\\cos^2 t + 16\\sin^2 t\\cos^2t\\\\\n",
    "&=25\\sin^2t\\cos^2t\\\\\n",
    "|\\mathbf r'(t)| &= 5\\sin t \\cos t\n",
    "\\end{split}\n",
    "$$\n"
   ]
  },
  {
   "cell_type": "markdown",
   "metadata": {},
   "source": [
    "For $\\mathbf r(t) = (3t, 3t^2, 2t^3)$, we have $\\mathbf r'(t) = (3, 6t, 6t^2)$. Therefore,\n",
    "$$\n",
    "|\\mathbf r'(t)|^ = 9 + 36t^2 + 36t^4\\\\\n",
    "|\\mathbf r'(t)| = 6t^2 + 3\n",
    "$$"
   ]
  },
  {
   "cell_type": "code",
   "execution_count": null,
   "metadata": {},
   "outputs": [],
   "source": []
  }
 ],
 "metadata": {
  "kernelspec": {
   "display_name": "Python 2",
   "language": "python",
   "name": "python2"
  },
  "language_info": {
   "codemirror_mode": {
    "name": "ipython",
    "version": 2
   },
   "file_extension": ".py",
   "mimetype": "text/x-python",
   "name": "python",
   "nbconvert_exporter": "python",
   "pygments_lexer": "ipython2",
   "version": "2.7.15"
  }
 },
 "nbformat": 4,
 "nbformat_minor": 2
}
